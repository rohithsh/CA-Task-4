{
 "cells": [
  {
   "cell_type": "markdown",
   "id": "fff54103",
   "metadata": {},
   "source": [
    "pip install bert-extractive-summarizer\n",
    "pip install sacremoses\n",
    "pip install rouge-score"
   ]
  },
  {
   "cell_type": "code",
   "execution_count": 1,
   "id": "18d1cd87",
   "metadata": {},
   "outputs": [],
   "source": [
    "import pandas as pd\n",
    "import json\n",
    "from transformers import pipeline\n",
    "from summarizer import Summarizer\n",
    "from rouge_score import rouge_scorer"
   ]
  },
  {
   "cell_type": "code",
   "execution_count": 2,
   "id": "903d1e42",
   "metadata": {},
   "outputs": [],
   "source": [
    "path = \"data/essay-prompt-corpus.json\"\n",
    "with open(path, 'r', encoding = 'latin-1') as f:\n",
    "  data = json.load(f)\n",
    "data_df = pd.json_normalize(data)\n",
    "def cleanString(x):\n",
    "    x = x.replace(\"\\\\n\",\"\")\n",
    "    x = x.replace(\"\\\\\",\"\")\n",
    "    return x\n",
    "data_df['text'] = data_df['text'].apply(lambda x: cleanString(x))\n",
    "\n",
    "train_test = pd.read_csv(\"data/train-test-split.csv\", sep=';')\n",
    "train_test['ID'] = train_test['ID'].str.split(\"essay\")\n",
    "train_test['ID'] = train_test['ID'].apply(lambda x: int(x[1]))\n",
    "train_test = pd.merge(train_test, data_df, left_on = 'ID', right_on = 'id', how='inner')\n",
    "test_df = train_test[train_test['SET']=='TEST']"
   ]
  },
  {
   "cell_type": "code",
   "execution_count": 3,
   "id": "4b871b32",
   "metadata": {},
   "outputs": [
    {
     "name": "stderr",
     "output_type": "stream",
     "text": [
      "Some weights of the model checkpoint at bert-large-uncased were not used when initializing BertModel: ['cls.predictions.transform.dense.weight', 'cls.seq_relationship.bias', 'cls.predictions.decoder.weight', 'cls.predictions.bias', 'cls.predictions.transform.LayerNorm.weight', 'cls.seq_relationship.weight', 'cls.predictions.transform.dense.bias', 'cls.predictions.transform.LayerNorm.bias']\n",
      "- This IS expected if you are initializing BertModel from the checkpoint of a model trained on another task or with another architecture (e.g. initializing a BertForSequenceClassification model from a BertForPreTraining model).\n",
      "- This IS NOT expected if you are initializing BertModel from the checkpoint of a model that you expect to be exactly identical (initializing a BertForSequenceClassification model from a BertForSequenceClassification model).\n",
      "/var/folders/7z/08nz_l2x3_z4wvd3cdn85q080000gn/T/ipykernel_29068/3662754567.py:3: SettingWithCopyWarning: \n",
      "A value is trying to be set on a copy of a slice from a DataFrame.\n",
      "Try using .loc[row_indexer,col_indexer] = value instead\n",
      "\n",
      "See the caveats in the documentation: https://pandas.pydata.org/pandas-docs/stable/user_guide/indexing.html#returning-a-view-versus-a-copy\n",
      "  test_df['prompt_pred'] = test_df['text'].apply(lambda x: model(x, num_sentences = 1))\n"
     ]
    }
   ],
   "source": [
    "model = Summarizer()\n",
    "# test_df = test_df[0:20]\n",
    "test_df['prompt_pred'] = test_df['text'].apply(lambda x: model(x, num_sentences = 1))"
   ]
  },
  {
   "cell_type": "code",
   "execution_count": 4,
   "id": "56ecdaf4",
   "metadata": {},
   "outputs": [
    {
     "name": "stderr",
     "output_type": "stream",
     "text": [
      "No model was supplied, defaulted to t5-base (https://huggingface.co/t5-base)\n",
      "/Users/rohith/opt/anaconda3/lib/python3.9/site-packages/transformers/models/t5/tokenization_t5_fast.py:156: FutureWarning: This tokenizer was incorrectly instantiated with a model max length of 512 which will be corrected in Transformers v5.\n",
      "For now, this behavior is kept to avoid breaking backwards compatibility when padding/encoding with `truncation is True`.\n",
      "- Be aware that you SHOULD NOT rely on t5-base automatically truncating your input to 512 when padding/encoding.\n",
      "- If you want to encode/pad to sequences longer than 512 you can either instantiate this tokenizer with `model_max_length` or pass `max_length` when encoding/padding.\n",
      "- To avoid this warning, please instantiate this tokenizer with `model_max_length` set to your preferred value.\n",
      "  warnings.warn(\n",
      "/var/folders/7z/08nz_l2x3_z4wvd3cdn85q080000gn/T/ipykernel_29068/2026814346.py:3: SettingWithCopyWarning: \n",
      "A value is trying to be set on a copy of a slice from a DataFrame.\n",
      "Try using .loc[row_indexer,col_indexer] = value instead\n",
      "\n",
      "See the caveats in the documentation: https://pandas.pydata.org/pandas-docs/stable/user_guide/indexing.html#returning-a-view-versus-a-copy\n",
      "  test_df['prompt_pred_new'] = test_df['prompt_pred'].apply(lambda x:\n"
     ]
    }
   ],
   "source": [
    "text2text_generator = pipeline(\"text2text-generation\")\n",
    "question = \"question: what is the main idea? context:\"\n",
    "test_df['prompt_pred_new'] = test_df['prompt_pred'].apply(lambda x: \n",
    "                                                      text2text_generator(question+x)[0]['generated_text'])\n",
    "\n",
    "score = 0\n",
    "scorer = rouge_scorer.RougeScorer(['rougeL'], use_stemmer=True)\n",
    "for row in test_df.iterrows():\n",
    "    scores = scorer.score(row[1]['prompt_pred_new'],\n",
    "                          row[1]['prompt'])\n",
    "    score += scores['rougeL'][2]\n",
    "print(score/test_df.shape[0])\n",
    "\n",
    "result =test_df[['ID', 'prompt_pred_new']]\n",
    "result = result.rename({'prompt_pred_new': \"prompt\", 'ID': 'id'}, axis=1)\n",
    "result.to_json('predictions.json', orient='records', lines=True)"
   ]
  },
  {
   "cell_type": "code",
   "execution_count": 5,
   "id": "89bc8364",
   "metadata": {},
   "outputs": [],
   "source": []
  },
  {
   "cell_type": "code",
   "execution_count": 9,
   "id": "fa95695d",
   "metadata": {},
   "outputs": [
    {
     "data": {
      "text/html": [
       "<div>\n",
       "<style scoped>\n",
       "    .dataframe tbody tr th:only-of-type {\n",
       "        vertical-align: middle;\n",
       "    }\n",
       "\n",
       "    .dataframe tbody tr th {\n",
       "        vertical-align: top;\n",
       "    }\n",
       "\n",
       "    .dataframe thead th {\n",
       "        text-align: right;\n",
       "    }\n",
       "</style>\n",
       "<table border=\"1\" class=\"dataframe\">\n",
       "  <thead>\n",
       "    <tr style=\"text-align: right;\">\n",
       "      <th></th>\n",
       "      <th>id</th>\n",
       "      <th>prompt</th>\n",
       "    </tr>\n",
       "  </thead>\n",
       "  <tbody>\n",
       "    <tr>\n",
       "      <th>3</th>\n",
       "      <td>4</td>\n",
       "      <td>tourist traveling worldwide</td>\n",
       "    </tr>\n",
       "    <tr>\n",
       "      <th>4</th>\n",
       "      <td>5</td>\n",
       "      <td>to study at a good university and experience a...</td>\n",
       "    </tr>\n",
       "    <tr>\n",
       "      <th>5</th>\n",
       "      <td>6</td>\n",
       "      <td>Studying abroad</td>\n",
       "    </tr>\n",
       "    <tr>\n",
       "      <th>20</th>\n",
       "      <td>21</td>\n",
       "      <td>different products to consumers</td>\n",
       "    </tr>\n",
       "    <tr>\n",
       "      <th>41</th>\n",
       "      <td>42</td>\n",
       "      <td>raising their salaries</td>\n",
       "    </tr>\n",
       "  </tbody>\n",
       "</table>\n",
       "</div>"
      ],
      "text/plain": [
       "    id                                             prompt\n",
       "3    4                        tourist traveling worldwide\n",
       "4    5  to study at a good university and experience a...\n",
       "5    6                                    Studying abroad\n",
       "20  21                    different products to consumers\n",
       "41  42                             raising their salaries"
      ]
     },
     "execution_count": 9,
     "metadata": {},
     "output_type": "execute_result"
    }
   ],
   "source": []
  },
  {
   "cell_type": "code",
   "execution_count": 10,
   "id": "953559ff",
   "metadata": {},
   "outputs": [],
   "source": []
  },
  {
   "cell_type": "code",
   "execution_count": null,
   "id": "e6a83b5e",
   "metadata": {},
   "outputs": [],
   "source": []
  }
 ],
 "metadata": {
  "kernelspec": {
   "display_name": "Python 3 (ipykernel)",
   "language": "python",
   "name": "python3"
  },
  "language_info": {
   "codemirror_mode": {
    "name": "ipython",
    "version": 3
   },
   "file_extension": ".py",
   "mimetype": "text/x-python",
   "name": "python",
   "nbconvert_exporter": "python",
   "pygments_lexer": "ipython3",
   "version": "3.9.7"
  }
 },
 "nbformat": 4,
 "nbformat_minor": 5
}
