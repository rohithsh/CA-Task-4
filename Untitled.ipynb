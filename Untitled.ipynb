{
 "cells": [
  {
   "cell_type": "markdown",
   "id": "4ffc39a4",
   "metadata": {},
   "source": [
    "pip install bert-extractive-summarizer\n",
    "pip install sacremoses\n",
    "pip install rouge-score"
   ]
  },
  {
   "cell_type": "code",
   "execution_count": 1,
   "id": "18d1cd87",
   "metadata": {},
   "outputs": [],
   "source": [
    "import pandas as pd\n",
    "import json\n",
    "from transformers import pipeline\n",
    "from summarizer import Summarizer\n",
    "from rouge_score import rouge_scorer"
   ]
  },
  {
   "cell_type": "code",
   "execution_count": 2,
   "id": "903d1e42",
   "metadata": {},
   "outputs": [],
   "source": [
    "path = \"data/essay-prompt-corpus.json\"\n",
    "with open(path, 'r', encoding = 'latin-1') as f:\n",
    "  data = json.load(f)\n",
    "data_df = pd.json_normalize(data)\n",
    "def cleanString(x):\n",
    "    x = x.replace(\"\\\\n\",\"\")\n",
    "    x = x.replace(\"\\\\\",\"\")\n",
    "    return x\n",
    "data_df['text'] = data_df['text'].apply(lambda x: cleanString(x))\n",
    "\n",
    "train_test = pd.read_csv(\"data/train-test-split.csv\", sep=';')\n",
    "train_test['ID'] = train_test['ID'].str.split(\"essay\")\n",
    "train_test['ID'] = train_test['ID'].apply(lambda x: int(x[1]))\n",
    "train_test = pd.merge(train_test, data_df, left_on = 'ID', right_on = 'id', how='inner')\n",
    "test_df = train_test[train_test['SET']=='TEST']"
   ]
  },
  {
   "cell_type": "code",
   "execution_count": 3,
   "id": "8e89af4c",
   "metadata": {},
   "outputs": [
    {
     "name": "stderr",
     "output_type": "stream",
     "text": [
      "Some weights of the model checkpoint at bert-large-uncased were not used when initializing BertModel: ['cls.predictions.transform.dense.weight', 'cls.seq_relationship.bias', 'cls.predictions.decoder.weight', 'cls.predictions.bias', 'cls.predictions.transform.LayerNorm.weight', 'cls.seq_relationship.weight', 'cls.predictions.transform.dense.bias', 'cls.predictions.transform.LayerNorm.bias']\n",
      "- This IS expected if you are initializing BertModel from the checkpoint of a model trained on another task or with another architecture (e.g. initializing a BertForSequenceClassification model from a BertForPreTraining model).\n",
      "- This IS NOT expected if you are initializing BertModel from the checkpoint of a model that you expect to be exactly identical (initializing a BertForSequenceClassification model from a BertForSequenceClassification model).\n",
      "/var/folders/7z/08nz_l2x3_z4wvd3cdn85q080000gn/T/ipykernel_29068/3662754567.py:3: SettingWithCopyWarning: \n",
      "A value is trying to be set on a copy of a slice from a DataFrame.\n",
      "Try using .loc[row_indexer,col_indexer] = value instead\n",
      "\n",
      "See the caveats in the documentation: https://pandas.pydata.org/pandas-docs/stable/user_guide/indexing.html#returning-a-view-versus-a-copy\n",
      "  test_df['prompt_pred'] = test_df['text'].apply(lambda x: model(x, num_sentences = 1))\n"
     ]
    }
   ],
   "source": [
    "model = Summarizer()\n",
    "# test_df = test_df[0:20]\n",
    "test_df['prompt_pred'] = test_df['text'].apply(lambda x: model(x, num_sentences = 1))"
   ]
  },
  {
   "cell_type": "code",
   "execution_count": 4,
   "id": "56ecdaf4",
   "metadata": {},
   "outputs": [
    {
     "name": "stderr",
     "output_type": "stream",
     "text": [
      "No model was supplied, defaulted to t5-base (https://huggingface.co/t5-base)\n",
      "/Users/rohith/opt/anaconda3/lib/python3.9/site-packages/transformers/models/t5/tokenization_t5_fast.py:156: FutureWarning: This tokenizer was incorrectly instantiated with a model max length of 512 which will be corrected in Transformers v5.\n",
      "For now, this behavior is kept to avoid breaking backwards compatibility when padding/encoding with `truncation is True`.\n",
      "- Be aware that you SHOULD NOT rely on t5-base automatically truncating your input to 512 when padding/encoding.\n",
      "- If you want to encode/pad to sequences longer than 512 you can either instantiate this tokenizer with `model_max_length` or pass `max_length` when encoding/padding.\n",
      "- To avoid this warning, please instantiate this tokenizer with `model_max_length` set to your preferred value.\n",
      "  warnings.warn(\n",
      "/var/folders/7z/08nz_l2x3_z4wvd3cdn85q080000gn/T/ipykernel_29068/2026814346.py:3: SettingWithCopyWarning: \n",
      "A value is trying to be set on a copy of a slice from a DataFrame.\n",
      "Try using .loc[row_indexer,col_indexer] = value instead\n",
      "\n",
      "See the caveats in the documentation: https://pandas.pydata.org/pandas-docs/stable/user_guide/indexing.html#returning-a-view-versus-a-copy\n",
      "  test_df['prompt_pred_new'] = test_df['prompt_pred'].apply(lambda x:\n"
     ]
    }
   ],
   "source": [
    "text2text_generator = pipeline(\"text2text-generation\")\n",
    "question = \"question: what is the main idea? context:\"\n",
    "test_df['prompt_pred_new'] = test_df['prompt_pred'].apply(lambda x: \n",
    "                                                      text2text_generator(question+x)[0]['generated_text'])"
   ]
  },
  {
   "cell_type": "code",
   "execution_count": 5,
   "id": "81a38bde",
   "metadata": {},
   "outputs": [],
   "source": [
    "score = 0\n",
    "scorer = rouge_scorer.RougeScorer(['rougeL'], use_stemmer=True)\n",
    "for row in test_df.iterrows():\n",
    "    scores = scorer.score(row[1]['prompt_pred_new'],\n",
    "                          row[1]['prompt'])\n",
    "    score += scores['rougeL'][2]\n",
    "\n"
   ]
  },
  {
   "cell_type": "code",
   "execution_count": 6,
   "id": "c158e43a",
   "metadata": {},
   "outputs": [
    {
     "data": {
      "text/plain": [
       "0.2352724362955735"
      ]
     },
     "execution_count": 6,
     "metadata": {},
     "output_type": "execute_result"
    }
   ],
   "source": [
    "score/test_df.shape[0]"
   ]
  }
 ],
 "metadata": {
  "kernelspec": {
   "display_name": "Python 3 (ipykernel)",
   "language": "python",
   "name": "python3"
  },
  "language_info": {
   "codemirror_mode": {
    "name": "ipython",
    "version": 3
   },
   "file_extension": ".py",
   "mimetype": "text/x-python",
   "name": "python",
   "nbconvert_exporter": "python",
   "pygments_lexer": "ipython3",
   "version": "3.9.7"
  }
 },
 "nbformat": 4,
 "nbformat_minor": 5
}
