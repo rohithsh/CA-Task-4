{
 "cells": [
  {
   "cell_type": "code",
   "execution_count": 25,
   "id": "18d1cd87",
   "metadata": {},
   "outputs": [],
   "source": [
    "import pandas as pd\n",
    "import json"
   ]
  },
  {
   "cell_type": "code",
   "execution_count": 26,
   "id": "903d1e42",
   "metadata": {},
   "outputs": [],
   "source": [
    "path = \"data/essay-prompt-corpus.json\"\n",
    "with open(path, 'r', encoding = 'latin-1') as f:\n",
    "  data = json.load(f)"
   ]
  },
  {
   "cell_type": "code",
   "execution_count": 27,
   "id": "940db69f",
   "metadata": {},
   "outputs": [
    {
     "data": {
      "text/html": [
       "<div>\n",
       "<style scoped>\n",
       "    .dataframe tbody tr th:only-of-type {\n",
       "        vertical-align: middle;\n",
       "    }\n",
       "\n",
       "    .dataframe tbody tr th {\n",
       "        vertical-align: top;\n",
       "    }\n",
       "\n",
       "    .dataframe thead th {\n",
       "        text-align: right;\n",
       "    }\n",
       "</style>\n",
       "<table border=\"1\" class=\"dataframe\">\n",
       "  <thead>\n",
       "    <tr style=\"text-align: right;\">\n",
       "      <th></th>\n",
       "      <th>id</th>\n",
       "      <th>prompt</th>\n",
       "      <th>text</th>\n",
       "    </tr>\n",
       "  </thead>\n",
       "  <tbody>\n",
       "    <tr>\n",
       "      <th>0</th>\n",
       "      <td>365</td>\n",
       "      <td>Way to reduce the amount of traffic?</td>\n",
       "      <td>Big cities nowadays can be described as meltin...</td>\n",
       "    </tr>\n",
       "    <tr>\n",
       "      <th>1</th>\n",
       "      <td>134</td>\n",
       "      <td>Qualification is still the fundamental determi...</td>\n",
       "      <td>With the increased educational level of workfo...</td>\n",
       "    </tr>\n",
       "    <tr>\n",
       "      <th>2</th>\n",
       "      <td>131</td>\n",
       "      <td>The government should allocate more funds to p...</td>\n",
       "      <td>The issue of governmental financing provision ...</td>\n",
       "    </tr>\n",
       "    <tr>\n",
       "      <th>3</th>\n",
       "      <td>198</td>\n",
       "      <td>Improve roads or public transports</td>\n",
       "      <td>Many people think that governments should spen...</td>\n",
       "    </tr>\n",
       "    <tr>\n",
       "      <th>4</th>\n",
       "      <td>330</td>\n",
       "      <td>In personal live, we have some responsibilitie...</td>\n",
       "      <td>People should sometimes do things, even though...</td>\n",
       "    </tr>\n",
       "  </tbody>\n",
       "</table>\n",
       "</div>"
      ],
      "text/plain": [
       "    id                                             prompt  \\\n",
       "0  365               Way to reduce the amount of traffic?   \n",
       "1  134  Qualification is still the fundamental determi...   \n",
       "2  131  The government should allocate more funds to p...   \n",
       "3  198                 Improve roads or public transports   \n",
       "4  330  In personal live, we have some responsibilitie...   \n",
       "\n",
       "                                                text  \n",
       "0  Big cities nowadays can be described as meltin...  \n",
       "1  With the increased educational level of workfo...  \n",
       "2  The issue of governmental financing provision ...  \n",
       "3  Many people think that governments should spen...  \n",
       "4  People should sometimes do things, even though...  "
      ]
     },
     "execution_count": 27,
     "metadata": {},
     "output_type": "execute_result"
    }
   ],
   "source": [
    "data_df = pd.json_normalize(data)\n",
    "data_df.head()"
   ]
  },
  {
   "cell_type": "code",
   "execution_count": 28,
   "id": "c8bd0859",
   "metadata": {},
   "outputs": [
    {
     "data": {
      "text/html": [
       "<div>\n",
       "<style scoped>\n",
       "    .dataframe tbody tr th:only-of-type {\n",
       "        vertical-align: middle;\n",
       "    }\n",
       "\n",
       "    .dataframe tbody tr th {\n",
       "        vertical-align: top;\n",
       "    }\n",
       "\n",
       "    .dataframe thead th {\n",
       "        text-align: right;\n",
       "    }\n",
       "</style>\n",
       "<table border=\"1\" class=\"dataframe\">\n",
       "  <thead>\n",
       "    <tr style=\"text-align: right;\">\n",
       "      <th></th>\n",
       "      <th>id</th>\n",
       "      <th>prompt</th>\n",
       "      <th>text</th>\n",
       "    </tr>\n",
       "  </thead>\n",
       "  <tbody>\n",
       "    <tr>\n",
       "      <th>0</th>\n",
       "      <td>365</td>\n",
       "      <td>Way to reduce the amount of traffic?</td>\n",
       "      <td>Big cities nowadays can be described as meltin...</td>\n",
       "    </tr>\n",
       "    <tr>\n",
       "      <th>1</th>\n",
       "      <td>134</td>\n",
       "      <td>Qualification is still the fundamental determi...</td>\n",
       "      <td>With the increased educational level of workfo...</td>\n",
       "    </tr>\n",
       "    <tr>\n",
       "      <th>2</th>\n",
       "      <td>131</td>\n",
       "      <td>The government should allocate more funds to p...</td>\n",
       "      <td>The issue of governmental financing provision ...</td>\n",
       "    </tr>\n",
       "    <tr>\n",
       "      <th>3</th>\n",
       "      <td>198</td>\n",
       "      <td>Improve roads or public transports</td>\n",
       "      <td>Many people think that governments should spen...</td>\n",
       "    </tr>\n",
       "    <tr>\n",
       "      <th>4</th>\n",
       "      <td>330</td>\n",
       "      <td>In personal live, we have some responsibilitie...</td>\n",
       "      <td>People should sometimes do things, even though...</td>\n",
       "    </tr>\n",
       "  </tbody>\n",
       "</table>\n",
       "</div>"
      ],
      "text/plain": [
       "    id                                             prompt  \\\n",
       "0  365               Way to reduce the amount of traffic?   \n",
       "1  134  Qualification is still the fundamental determi...   \n",
       "2  131  The government should allocate more funds to p...   \n",
       "3  198                 Improve roads or public transports   \n",
       "4  330  In personal live, we have some responsibilitie...   \n",
       "\n",
       "                                                text  \n",
       "0  Big cities nowadays can be described as meltin...  \n",
       "1  With the increased educational level of workfo...  \n",
       "2  The issue of governmental financing provision ...  \n",
       "3  Many people think that governments should spen...  \n",
       "4  People should sometimes do things, even though...  "
      ]
     },
     "execution_count": 28,
     "metadata": {},
     "output_type": "execute_result"
    }
   ],
   "source": [
    "def cleanString(x):\n",
    "    x = x.replace(\"\\\\n\",\"\")\n",
    "    x = x.replace(\"\\\\\",\"\")\n",
    "    return x\n",
    "data_df['text'] = data_df['text'].apply(lambda x: cleanString(x))\n",
    "data_df.head()"
   ]
  },
  {
   "cell_type": "code",
   "execution_count": 29,
   "id": "6aa4e9bf",
   "metadata": {},
   "outputs": [],
   "source": [
    "from transformers import pipeline"
   ]
  },
  {
   "cell_type": "code",
   "execution_count": 37,
   "id": "dd0719b2",
   "metadata": {},
   "outputs": [
    {
     "name": "stderr",
     "output_type": "stream",
     "text": [
      "No model was supplied, defaulted to t5-base (https://huggingface.co/t5-base)\n"
     ]
    }
   ],
   "source": [
    "text2text_generator = pipeline(\"text2text-generation\")"
   ]
  },
  {
   "cell_type": "code",
   "execution_count": 35,
   "id": "de7fc662",
   "metadata": {},
   "outputs": [],
   "source": [
    "context = data_df['text'][3]\n",
    "question = \"what is the key point of the following sentence?\""
   ]
  },
  {
   "cell_type": "code",
   "execution_count": 38,
   "id": "00ce1080",
   "metadata": {},
   "outputs": [
    {
     "data": {
      "text/plain": [
       "[{'generated_text': 'the more cars we use means that the faster gasoline is used up. the more gas'}]"
      ]
     },
     "execution_count": 38,
     "metadata": {},
     "output_type": "execute_result"
    }
   ],
   "source": [
    "text2text_generator(context+question)"
   ]
  },
  {
   "cell_type": "code",
   "execution_count": null,
   "id": "b549ad7e",
   "metadata": {},
   "outputs": [],
   "source": []
  }
 ],
 "metadata": {
  "kernelspec": {
   "display_name": "Python 3 (ipykernel)",
   "language": "python",
   "name": "python3"
  },
  "language_info": {
   "codemirror_mode": {
    "name": "ipython",
    "version": 3
   },
   "file_extension": ".py",
   "mimetype": "text/x-python",
   "name": "python",
   "nbconvert_exporter": "python",
   "pygments_lexer": "ipython3",
   "version": "3.9.7"
  }
 },
 "nbformat": 4,
 "nbformat_minor": 5
}
