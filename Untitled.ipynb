{
 "cells": [
  {
   "cell_type": "code",
   "execution_count": 25,
   "id": "18d1cd87",
   "metadata": {},
   "outputs": [],
   "source": [
    "import pandas as pd\n",
    "import json"
   ]
  },
  {
   "cell_type": "code",
   "execution_count": 26,
   "id": "903d1e42",
   "metadata": {},
   "outputs": [],
   "source": [
    "path = \"data/essay-prompt-corpus.json\"\n",
    "with open(path, 'r', encoding = 'latin-1') as f:\n",
    "  data = json.load(f)"
   ]
  },
  {
   "cell_type": "code",
   "execution_count": 27,
   "id": "940db69f",
   "metadata": {},
   "outputs": [
    {
     "data": {
      "text/html": [
       "<div>\n",
       "<style scoped>\n",
       "    .dataframe tbody tr th:only-of-type {\n",
       "        vertical-align: middle;\n",
       "    }\n",
       "\n",
       "    .dataframe tbody tr th {\n",
       "        vertical-align: top;\n",
       "    }\n",
       "\n",
       "    .dataframe thead th {\n",
       "        text-align: right;\n",
       "    }\n",
       "</style>\n",
       "<table border=\"1\" class=\"dataframe\">\n",
       "  <thead>\n",
       "    <tr style=\"text-align: right;\">\n",
       "      <th></th>\n",
       "      <th>id</th>\n",
       "      <th>prompt</th>\n",
       "      <th>text</th>\n",
       "    </tr>\n",
       "  </thead>\n",
       "  <tbody>\n",
       "    <tr>\n",
       "      <th>0</th>\n",
       "      <td>365</td>\n",
       "      <td>Way to reduce the amount of traffic?</td>\n",
       "      <td>Big cities nowadays can be described as meltin...</td>\n",
       "    </tr>\n",
       "    <tr>\n",
       "      <th>1</th>\n",
       "      <td>134</td>\n",
       "      <td>Qualification is still the fundamental determi...</td>\n",
       "      <td>With the increased educational level of workfo...</td>\n",
       "    </tr>\n",
       "    <tr>\n",
       "      <th>2</th>\n",
       "      <td>131</td>\n",
       "      <td>The government should allocate more funds to p...</td>\n",
       "      <td>The issue of governmental financing provision ...</td>\n",
       "    </tr>\n",
       "    <tr>\n",
       "      <th>3</th>\n",
       "      <td>198</td>\n",
       "      <td>Improve roads or public transports</td>\n",
       "      <td>Many people think that governments should spen...</td>\n",
       "    </tr>\n",
       "    <tr>\n",
       "      <th>4</th>\n",
       "      <td>330</td>\n",
       "      <td>In personal live, we have some responsibilitie...</td>\n",
       "      <td>People should sometimes do things, even though...</td>\n",
       "    </tr>\n",
       "  </tbody>\n",
       "</table>\n",
       "</div>"
      ],
      "text/plain": [
       "    id                                             prompt  \\\n",
       "0  365               Way to reduce the amount of traffic?   \n",
       "1  134  Qualification is still the fundamental determi...   \n",
       "2  131  The government should allocate more funds to p...   \n",
       "3  198                 Improve roads or public transports   \n",
       "4  330  In personal live, we have some responsibilitie...   \n",
       "\n",
       "                                                text  \n",
       "0  Big cities nowadays can be described as meltin...  \n",
       "1  With the increased educational level of workfo...  \n",
       "2  The issue of governmental financing provision ...  \n",
       "3  Many people think that governments should spen...  \n",
       "4  People should sometimes do things, even though...  "
      ]
     },
     "execution_count": 27,
     "metadata": {},
     "output_type": "execute_result"
    }
   ],
   "source": [
    "data_df = pd.json_normalize(data)\n",
    "data_df.head()"
   ]
  },
  {
   "cell_type": "code",
   "execution_count": 28,
   "id": "c8bd0859",
   "metadata": {},
   "outputs": [
    {
     "data": {
      "text/html": [
       "<div>\n",
       "<style scoped>\n",
       "    .dataframe tbody tr th:only-of-type {\n",
       "        vertical-align: middle;\n",
       "    }\n",
       "\n",
       "    .dataframe tbody tr th {\n",
       "        vertical-align: top;\n",
       "    }\n",
       "\n",
       "    .dataframe thead th {\n",
       "        text-align: right;\n",
       "    }\n",
       "</style>\n",
       "<table border=\"1\" class=\"dataframe\">\n",
       "  <thead>\n",
       "    <tr style=\"text-align: right;\">\n",
       "      <th></th>\n",
       "      <th>id</th>\n",
       "      <th>prompt</th>\n",
       "      <th>text</th>\n",
       "    </tr>\n",
       "  </thead>\n",
       "  <tbody>\n",
       "    <tr>\n",
       "      <th>0</th>\n",
       "      <td>365</td>\n",
       "      <td>Way to reduce the amount of traffic?</td>\n",
       "      <td>Big cities nowadays can be described as meltin...</td>\n",
       "    </tr>\n",
       "    <tr>\n",
       "      <th>1</th>\n",
       "      <td>134</td>\n",
       "      <td>Qualification is still the fundamental determi...</td>\n",
       "      <td>With the increased educational level of workfo...</td>\n",
       "    </tr>\n",
       "    <tr>\n",
       "      <th>2</th>\n",
       "      <td>131</td>\n",
       "      <td>The government should allocate more funds to p...</td>\n",
       "      <td>The issue of governmental financing provision ...</td>\n",
       "    </tr>\n",
       "    <tr>\n",
       "      <th>3</th>\n",
       "      <td>198</td>\n",
       "      <td>Improve roads or public transports</td>\n",
       "      <td>Many people think that governments should spen...</td>\n",
       "    </tr>\n",
       "    <tr>\n",
       "      <th>4</th>\n",
       "      <td>330</td>\n",
       "      <td>In personal live, we have some responsibilitie...</td>\n",
       "      <td>People should sometimes do things, even though...</td>\n",
       "    </tr>\n",
       "  </tbody>\n",
       "</table>\n",
       "</div>"
      ],
      "text/plain": [
       "    id                                             prompt  \\\n",
       "0  365               Way to reduce the amount of traffic?   \n",
       "1  134  Qualification is still the fundamental determi...   \n",
       "2  131  The government should allocate more funds to p...   \n",
       "3  198                 Improve roads or public transports   \n",
       "4  330  In personal live, we have some responsibilitie...   \n",
       "\n",
       "                                                text  \n",
       "0  Big cities nowadays can be described as meltin...  \n",
       "1  With the increased educational level of workfo...  \n",
       "2  The issue of governmental financing provision ...  \n",
       "3  Many people think that governments should spen...  \n",
       "4  People should sometimes do things, even though...  "
      ]
     },
     "execution_count": 28,
     "metadata": {},
     "output_type": "execute_result"
    }
   ],
   "source": [
    "def cleanString(x):\n",
    "    x = x.replace(\"\\\\n\",\"\")\n",
    "    x = x.replace(\"\\\\\",\"\")\n",
    "    return x\n",
    "data_df['text'] = data_df['text'].apply(lambda x: cleanString(x))\n",
    "data_df.head()"
   ]
  },
  {
   "cell_type": "code",
   "execution_count": 29,
   "id": "6aa4e9bf",
   "metadata": {},
   "outputs": [],
   "source": [
    "from transformers import pipeline"
   ]
  },
  {
   "cell_type": "code",
   "execution_count": 37,
   "id": "dd0719b2",
   "metadata": {},
   "outputs": [
    {
     "name": "stderr",
     "output_type": "stream",
     "text": [
      "No model was supplied, defaulted to t5-base (https://huggingface.co/t5-base)\n"
     ]
    }
   ],
   "source": [
    "text2text_generator = pipeline(\"text2text-generation\")"
   ]
  },
  {
   "cell_type": "code",
   "execution_count": 35,
   "id": "de7fc662",
   "metadata": {},
   "outputs": [],
   "source": [
    "context = data_df['text'][3]\n",
    "question = \"what is the key point of the following sentence?\""
   ]
  },
  {
   "cell_type": "code",
   "execution_count": 38,
   "id": "00ce1080",
   "metadata": {},
   "outputs": [
    {
     "data": {
      "text/plain": [
       "[{'generated_text': 'the more cars we use means that the faster gasoline is used up. the more gas'}]"
      ]
     },
     "execution_count": 38,
     "metadata": {},
     "output_type": "execute_result"
    }
   ],
   "source": [
    "text2text_generator(context+question)"
   ]
  },
  {
   "cell_type": "code",
   "execution_count": 3,
   "id": "b549ad7e",
   "metadata": {},
   "outputs": [
    {
     "name": "stdout",
     "output_type": "stream",
     "text": [
      "Requirement already satisfied: bert-extractive-summarizer in /Users/palaniappanmuthuraman/opt/anaconda3/lib/python3.9/site-packages (0.10.1)\n",
      "Requirement already satisfied: spacy in /Users/palaniappanmuthuraman/opt/anaconda3/lib/python3.9/site-packages (from bert-extractive-summarizer) (3.2.4)\n",
      "Requirement already satisfied: transformers in /Users/palaniappanmuthuraman/opt/anaconda3/lib/python3.9/site-packages (from bert-extractive-summarizer) (4.20.1)\n",
      "Requirement already satisfied: scikit-learn in /Users/palaniappanmuthuraman/opt/anaconda3/lib/python3.9/site-packages (from bert-extractive-summarizer) (0.24.2)\n",
      "Requirement already satisfied: numpy>=1.13.3 in /Users/palaniappanmuthuraman/opt/anaconda3/lib/python3.9/site-packages (from scikit-learn->bert-extractive-summarizer) (1.22.3)\n",
      "Requirement already satisfied: threadpoolctl>=2.0.0 in /Users/palaniappanmuthuraman/opt/anaconda3/lib/python3.9/site-packages (from scikit-learn->bert-extractive-summarizer) (2.2.0)\n",
      "Requirement already satisfied: joblib>=0.11 in /Users/palaniappanmuthuraman/opt/anaconda3/lib/python3.9/site-packages (from scikit-learn->bert-extractive-summarizer) (1.1.0)\n",
      "Requirement already satisfied: scipy>=0.19.1 in /Users/palaniappanmuthuraman/opt/anaconda3/lib/python3.9/site-packages (from scikit-learn->bert-extractive-summarizer) (1.8.0)\n",
      "Requirement already satisfied: wasabi<1.1.0,>=0.8.1 in /Users/palaniappanmuthuraman/opt/anaconda3/lib/python3.9/site-packages (from spacy->bert-extractive-summarizer) (0.9.1)\n",
      "Requirement already satisfied: murmurhash<1.1.0,>=0.28.0 in /Users/palaniappanmuthuraman/opt/anaconda3/lib/python3.9/site-packages (from spacy->bert-extractive-summarizer) (1.0.6)\n",
      "Requirement already satisfied: thinc<8.1.0,>=8.0.12 in /Users/palaniappanmuthuraman/opt/anaconda3/lib/python3.9/site-packages (from spacy->bert-extractive-summarizer) (8.0.15)\n",
      "Requirement already satisfied: spacy-legacy<3.1.0,>=3.0.8 in /Users/palaniappanmuthuraman/opt/anaconda3/lib/python3.9/site-packages (from spacy->bert-extractive-summarizer) (3.0.9)\n",
      "Requirement already satisfied: tqdm<5.0.0,>=4.38.0 in /Users/palaniappanmuthuraman/opt/anaconda3/lib/python3.9/site-packages (from spacy->bert-extractive-summarizer) (4.62.3)\n",
      "Requirement already satisfied: catalogue<2.1.0,>=2.0.6 in /Users/palaniappanmuthuraman/opt/anaconda3/lib/python3.9/site-packages (from spacy->bert-extractive-summarizer) (2.0.7)\n",
      "Requirement already satisfied: typer<0.5.0,>=0.3.0 in /Users/palaniappanmuthuraman/opt/anaconda3/lib/python3.9/site-packages (from spacy->bert-extractive-summarizer) (0.4.1)\n",
      "Requirement already satisfied: preshed<3.1.0,>=3.0.2 in /Users/palaniappanmuthuraman/opt/anaconda3/lib/python3.9/site-packages (from spacy->bert-extractive-summarizer) (3.0.6)\n",
      "Requirement already satisfied: jinja2 in /Users/palaniappanmuthuraman/opt/anaconda3/lib/python3.9/site-packages (from spacy->bert-extractive-summarizer) (2.11.3)\n",
      "Requirement already satisfied: requests<3.0.0,>=2.13.0 in /Users/palaniappanmuthuraman/opt/anaconda3/lib/python3.9/site-packages (from spacy->bert-extractive-summarizer) (2.26.0)\n",
      "Requirement already satisfied: blis<0.8.0,>=0.4.0 in /Users/palaniappanmuthuraman/opt/anaconda3/lib/python3.9/site-packages (from spacy->bert-extractive-summarizer) (0.7.7)\n",
      "Requirement already satisfied: click<8.1.0 in /Users/palaniappanmuthuraman/opt/anaconda3/lib/python3.9/site-packages (from spacy->bert-extractive-summarizer) (8.0.3)\n",
      "Requirement already satisfied: setuptools in /Users/palaniappanmuthuraman/opt/anaconda3/lib/python3.9/site-packages (from spacy->bert-extractive-summarizer) (62.1.0)\n",
      "Requirement already satisfied: pydantic!=1.8,!=1.8.1,<1.9.0,>=1.7.4 in /Users/palaniappanmuthuraman/opt/anaconda3/lib/python3.9/site-packages (from spacy->bert-extractive-summarizer) (1.8.2)\n",
      "Requirement already satisfied: cymem<2.1.0,>=2.0.2 in /Users/palaniappanmuthuraman/opt/anaconda3/lib/python3.9/site-packages (from spacy->bert-extractive-summarizer) (2.0.6)\n",
      "Requirement already satisfied: spacy-loggers<2.0.0,>=1.0.0 in /Users/palaniappanmuthuraman/opt/anaconda3/lib/python3.9/site-packages (from spacy->bert-extractive-summarizer) (1.0.2)\n",
      "Requirement already satisfied: pathy>=0.3.5 in /Users/palaniappanmuthuraman/opt/anaconda3/lib/python3.9/site-packages (from spacy->bert-extractive-summarizer) (0.6.1)\n",
      "Requirement already satisfied: packaging>=20.0 in /Users/palaniappanmuthuraman/opt/anaconda3/lib/python3.9/site-packages (from spacy->bert-extractive-summarizer) (21.0)\n",
      "Requirement already satisfied: srsly<3.0.0,>=2.4.1 in /Users/palaniappanmuthuraman/opt/anaconda3/lib/python3.9/site-packages (from spacy->bert-extractive-summarizer) (2.4.3)\n",
      "Requirement already satisfied: langcodes<4.0.0,>=3.2.0 in /Users/palaniappanmuthuraman/opt/anaconda3/lib/python3.9/site-packages (from spacy->bert-extractive-summarizer) (3.3.0)\n",
      "Requirement already satisfied: regex!=2019.12.17 in /Users/palaniappanmuthuraman/opt/anaconda3/lib/python3.9/site-packages (from transformers->bert-extractive-summarizer) (2021.8.3)\n",
      "Requirement already satisfied: filelock in /Users/palaniappanmuthuraman/opt/anaconda3/lib/python3.9/site-packages (from transformers->bert-extractive-summarizer) (3.3.1)\n",
      "Requirement already satisfied: tokenizers!=0.11.3,<0.13,>=0.11.1 in /Users/palaniappanmuthuraman/opt/anaconda3/lib/python3.9/site-packages (from transformers->bert-extractive-summarizer) (0.12.1)\n",
      "Requirement already satisfied: pyyaml>=5.1 in /Users/palaniappanmuthuraman/opt/anaconda3/lib/python3.9/site-packages (from transformers->bert-extractive-summarizer) (6.0)\n",
      "Requirement already satisfied: huggingface-hub<1.0,>=0.1.0 in /Users/palaniappanmuthuraman/opt/anaconda3/lib/python3.9/site-packages (from transformers->bert-extractive-summarizer) (0.8.1)\n",
      "Requirement already satisfied: typing-extensions>=3.7.4.3 in /Users/palaniappanmuthuraman/opt/anaconda3/lib/python3.9/site-packages (from huggingface-hub<1.0,>=0.1.0->transformers->bert-extractive-summarizer) (3.10.0.2)\n",
      "Requirement already satisfied: pyparsing>=2.0.2 in /Users/palaniappanmuthuraman/opt/anaconda3/lib/python3.9/site-packages (from packaging>=20.0->spacy->bert-extractive-summarizer) (3.0.4)\n",
      "Requirement already satisfied: smart-open<6.0.0,>=5.0.0 in /Users/palaniappanmuthuraman/opt/anaconda3/lib/python3.9/site-packages (from pathy>=0.3.5->spacy->bert-extractive-summarizer) (5.2.1)\n",
      "Requirement already satisfied: urllib3<1.27,>=1.21.1 in /Users/palaniappanmuthuraman/opt/anaconda3/lib/python3.9/site-packages (from requests<3.0.0,>=2.13.0->spacy->bert-extractive-summarizer) (1.26.7)\n",
      "Requirement already satisfied: certifi>=2017.4.17 in /Users/palaniappanmuthuraman/opt/anaconda3/lib/python3.9/site-packages (from requests<3.0.0,>=2.13.0->spacy->bert-extractive-summarizer) (2021.10.8)\n",
      "Requirement already satisfied: charset-normalizer~=2.0.0 in /Users/palaniappanmuthuraman/opt/anaconda3/lib/python3.9/site-packages (from requests<3.0.0,>=2.13.0->spacy->bert-extractive-summarizer) (2.0.4)\n",
      "Requirement already satisfied: idna<4,>=2.5 in /Users/palaniappanmuthuraman/opt/anaconda3/lib/python3.9/site-packages (from requests<3.0.0,>=2.13.0->spacy->bert-extractive-summarizer) (3.2)\n",
      "Requirement already satisfied: MarkupSafe>=0.23 in /Users/palaniappanmuthuraman/opt/anaconda3/lib/python3.9/site-packages (from jinja2->spacy->bert-extractive-summarizer) (1.1.1)\n",
      "Collecting sacremoses\n",
      "  Downloading sacremoses-0.0.53.tar.gz (880 kB)\n",
      "\u001b[2K     \u001b[90m━━━━━━━━━━━━━━━━━━━━━━━━━━━━━━━━━━━━━━━\u001b[0m \u001b[32m880.6/880.6 kB\u001b[0m \u001b[31m8.6 MB/s\u001b[0m eta \u001b[36m0:00:00\u001b[0m00:01\u001b[0m00:01\u001b[0m\n",
      "\u001b[?25h  Preparing metadata (setup.py) ... \u001b[?25ldone\n",
      "\u001b[?25hRequirement already satisfied: regex in /Users/palaniappanmuthuraman/opt/anaconda3/lib/python3.9/site-packages (from sacremoses) (2021.8.3)\n",
      "Requirement already satisfied: six in /Users/palaniappanmuthuraman/opt/anaconda3/lib/python3.9/site-packages (from sacremoses) (1.16.0)\n",
      "Requirement already satisfied: click in /Users/palaniappanmuthuraman/opt/anaconda3/lib/python3.9/site-packages (from sacremoses) (8.0.3)\n",
      "Requirement already satisfied: joblib in /Users/palaniappanmuthuraman/opt/anaconda3/lib/python3.9/site-packages (from sacremoses) (1.1.0)\n",
      "Requirement already satisfied: tqdm in /Users/palaniappanmuthuraman/opt/anaconda3/lib/python3.9/site-packages (from sacremoses) (4.62.3)\n",
      "Building wheels for collected packages: sacremoses\n"
     ]
    },
    {
     "name": "stdout",
     "output_type": "stream",
     "text": [
      "  Building wheel for sacremoses (setup.py) ... \u001b[?25ldone\n",
      "\u001b[?25h  Created wheel for sacremoses: filename=sacremoses-0.0.53-py3-none-any.whl size=895260 sha256=57dc1f1ae3ae00152e41c90c3d06f1254c7df1f7b5d3a2e9cf54a321811121bf\n",
      "  Stored in directory: /Users/palaniappanmuthuraman/Library/Caches/pip/wheels/12/1c/3d/46cf06718d63a32ff798a89594b61e7f345ab6b36d909ce033\n",
      "Successfully built sacremoses\n",
      "Installing collected packages: sacremoses\n",
      "Successfully installed sacremoses-0.0.53\n"
     ]
    }
   ],
   "source": [
    "!pip install bert-extractive-summarizer\n",
    "!pip install sacremoses"
   ]
  },
  {
   "cell_type": "code",
   "execution_count": 20,
   "id": "0ff7e718",
   "metadata": {},
   "outputs": [
    {
     "name": "stderr",
     "output_type": "stream",
     "text": [
      "Some weights of the model checkpoint at bert-large-uncased were not used when initializing BertModel: ['cls.predictions.transform.LayerNorm.bias', 'cls.seq_relationship.bias', 'cls.predictions.decoder.weight', 'cls.predictions.transform.dense.bias', 'cls.predictions.bias', 'cls.predictions.transform.LayerNorm.weight', 'cls.seq_relationship.weight', 'cls.predictions.transform.dense.weight']\n",
      "- This IS expected if you are initializing BertModel from the checkpoint of a model trained on another task or with another architecture (e.g. initializing a BertForSequenceClassification model from a BertForPreTraining model).\n",
      "- This IS NOT expected if you are initializing BertModel from the checkpoint of a model that you expect to be exactly identical (initializing a BertForSequenceClassification model from a BertForSequenceClassification model).\n"
     ]
    },
    {
     "name": "stdout",
     "output_type": "stream",
     "text": [
      "With the increased educational level of workforce, there are growing number of employers seeking criteria other than qualifications such as social skills in their employee selection process. Firstly, some people suggest that qualification should be the foremost measurement to determine the value of a employer. It is of importance that workers should be well educated and trained to perform duties of their job.\n"
     ]
    }
   ],
   "source": [
    "from summarizer import Summarizer\n",
    "body = '''With the increased educational level of workforce, there are growing number of employers seeking criteria other than qualifications such as social skills in their employee selection process. However, some employers still believe that qualifications should be the most paramount criterion. The essay intends to explore both sides of arguments and also present my own opinion. \\nFirstly, some people suggest that qualification should be the foremost measurement to determine the value of a employer. It is of importance that workers should be well educated and trained to perform duties of their job. Specifically, people who work in professional fields such as medicals are required to have a university degree and years of experience. Social skills seem to be less important as they cannot contribute to the success of a surgery. \\nOn the other hand, it is no doubt that the importance of social skills have been recognized by increasing number of employers. It is because people nowadays are required to work as a team in their jobs frequently. Interpersonal skill plays an essential role in helping colleagues to cooperate with each other, especially when conflicts arise. Better social skills allow them to resolve disagreements in a much more harmony way. Besides, organization have been transformed to customers oriented. Excellent social skills can help employees maintain strong relationship with their clients which thus lead to a better customer satisfaction.\\nTo my view, I incline to believe qualification is still the fundamental determinant of an employee's competency of their jobs. Yet, the importance of social skills should not be neglected as those skills can help one to perform their job effectiveness and efficiency by facilitating interaction and communication with others.'''\n",
    "model = Summarizer()\n",
    "result = model(body)\n",
    "full = ''.join(result)\n",
    "print(full)"
   ]
  },
  {
   "cell_type": "code",
   "execution_count": null,
   "id": "84338231",
   "metadata": {},
   "outputs": [],
   "source": []
  }
 ],
 "metadata": {
  "kernelspec": {
   "display_name": "Python 3 (ipykernel)",
   "language": "python",
   "name": "python3"
  },
  "language_info": {
   "codemirror_mode": {
    "name": "ipython",
    "version": 3
   },
   "file_extension": ".py",
   "mimetype": "text/x-python",
   "name": "python",
   "nbconvert_exporter": "python",
   "pygments_lexer": "ipython3",
   "version": "3.9.7"
  }
 },
 "nbformat": 4,
 "nbformat_minor": 5
}
