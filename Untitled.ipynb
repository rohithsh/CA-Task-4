{
 "cells": [
  {
   "cell_type": "code",
   "execution_count": 1,
   "id": "18d1cd87",
   "metadata": {},
   "outputs": [],
   "source": [
    "import pandas as pd\n",
    "import json\n",
    "from transformers import pipeline\n",
    "from summarizer import Summarizer"
   ]
  },
  {
   "cell_type": "code",
   "execution_count": 2,
   "id": "903d1e42",
   "metadata": {},
   "outputs": [],
   "source": [
    "path = \"data/essay-prompt-corpus.json\"\n",
    "with open(path, 'r', encoding = 'latin-1') as f:\n",
    "  data = json.load(f)"
   ]
  },
  {
   "cell_type": "code",
   "execution_count": 3,
   "id": "940db69f",
   "metadata": {},
   "outputs": [
    {
     "data": {
      "text/html": [
       "<div>\n",
       "<style scoped>\n",
       "    .dataframe tbody tr th:only-of-type {\n",
       "        vertical-align: middle;\n",
       "    }\n",
       "\n",
       "    .dataframe tbody tr th {\n",
       "        vertical-align: top;\n",
       "    }\n",
       "\n",
       "    .dataframe thead th {\n",
       "        text-align: right;\n",
       "    }\n",
       "</style>\n",
       "<table border=\"1\" class=\"dataframe\">\n",
       "  <thead>\n",
       "    <tr style=\"text-align: right;\">\n",
       "      <th></th>\n",
       "      <th>id</th>\n",
       "      <th>prompt</th>\n",
       "      <th>text</th>\n",
       "    </tr>\n",
       "  </thead>\n",
       "  <tbody>\n",
       "    <tr>\n",
       "      <th>0</th>\n",
       "      <td>365</td>\n",
       "      <td>Way to reduce the amount of traffic?</td>\n",
       "      <td>Big cities nowadays can be described as meltin...</td>\n",
       "    </tr>\n",
       "    <tr>\n",
       "      <th>1</th>\n",
       "      <td>134</td>\n",
       "      <td>Qualification is still the fundamental determi...</td>\n",
       "      <td>With the increased educational level of workfo...</td>\n",
       "    </tr>\n",
       "    <tr>\n",
       "      <th>2</th>\n",
       "      <td>131</td>\n",
       "      <td>The government should allocate more funds to p...</td>\n",
       "      <td>The issue of governmental financing provision ...</td>\n",
       "    </tr>\n",
       "    <tr>\n",
       "      <th>3</th>\n",
       "      <td>198</td>\n",
       "      <td>Improve roads or public transports</td>\n",
       "      <td>Many people think that governments should spen...</td>\n",
       "    </tr>\n",
       "    <tr>\n",
       "      <th>4</th>\n",
       "      <td>330</td>\n",
       "      <td>In personal live, we have some responsibilitie...</td>\n",
       "      <td>People should sometimes do things, even though...</td>\n",
       "    </tr>\n",
       "  </tbody>\n",
       "</table>\n",
       "</div>"
      ],
      "text/plain": [
       "    id                                             prompt  \\\n",
       "0  365               Way to reduce the amount of traffic?   \n",
       "1  134  Qualification is still the fundamental determi...   \n",
       "2  131  The government should allocate more funds to p...   \n",
       "3  198                 Improve roads or public transports   \n",
       "4  330  In personal live, we have some responsibilitie...   \n",
       "\n",
       "                                                text  \n",
       "0  Big cities nowadays can be described as meltin...  \n",
       "1  With the increased educational level of workfo...  \n",
       "2  The issue of governmental financing provision ...  \n",
       "3  Many people think that governments should spen...  \n",
       "4  People should sometimes do things, even though...  "
      ]
     },
     "execution_count": 3,
     "metadata": {},
     "output_type": "execute_result"
    }
   ],
   "source": [
    "data_df = pd.json_normalize(data)\n",
    "data_df.head()"
   ]
  },
  {
   "cell_type": "code",
   "execution_count": 4,
   "id": "c8bd0859",
   "metadata": {},
   "outputs": [
    {
     "data": {
      "text/html": [
       "<div>\n",
       "<style scoped>\n",
       "    .dataframe tbody tr th:only-of-type {\n",
       "        vertical-align: middle;\n",
       "    }\n",
       "\n",
       "    .dataframe tbody tr th {\n",
       "        vertical-align: top;\n",
       "    }\n",
       "\n",
       "    .dataframe thead th {\n",
       "        text-align: right;\n",
       "    }\n",
       "</style>\n",
       "<table border=\"1\" class=\"dataframe\">\n",
       "  <thead>\n",
       "    <tr style=\"text-align: right;\">\n",
       "      <th></th>\n",
       "      <th>id</th>\n",
       "      <th>prompt</th>\n",
       "      <th>text</th>\n",
       "    </tr>\n",
       "  </thead>\n",
       "  <tbody>\n",
       "    <tr>\n",
       "      <th>0</th>\n",
       "      <td>365</td>\n",
       "      <td>Way to reduce the amount of traffic?</td>\n",
       "      <td>Big cities nowadays can be described as meltin...</td>\n",
       "    </tr>\n",
       "    <tr>\n",
       "      <th>1</th>\n",
       "      <td>134</td>\n",
       "      <td>Qualification is still the fundamental determi...</td>\n",
       "      <td>With the increased educational level of workfo...</td>\n",
       "    </tr>\n",
       "    <tr>\n",
       "      <th>2</th>\n",
       "      <td>131</td>\n",
       "      <td>The government should allocate more funds to p...</td>\n",
       "      <td>The issue of governmental financing provision ...</td>\n",
       "    </tr>\n",
       "    <tr>\n",
       "      <th>3</th>\n",
       "      <td>198</td>\n",
       "      <td>Improve roads or public transports</td>\n",
       "      <td>Many people think that governments should spen...</td>\n",
       "    </tr>\n",
       "    <tr>\n",
       "      <th>4</th>\n",
       "      <td>330</td>\n",
       "      <td>In personal live, we have some responsibilitie...</td>\n",
       "      <td>People should sometimes do things, even though...</td>\n",
       "    </tr>\n",
       "  </tbody>\n",
       "</table>\n",
       "</div>"
      ],
      "text/plain": [
       "    id                                             prompt  \\\n",
       "0  365               Way to reduce the amount of traffic?   \n",
       "1  134  Qualification is still the fundamental determi...   \n",
       "2  131  The government should allocate more funds to p...   \n",
       "3  198                 Improve roads or public transports   \n",
       "4  330  In personal live, we have some responsibilitie...   \n",
       "\n",
       "                                                text  \n",
       "0  Big cities nowadays can be described as meltin...  \n",
       "1  With the increased educational level of workfo...  \n",
       "2  The issue of governmental financing provision ...  \n",
       "3  Many people think that governments should spen...  \n",
       "4  People should sometimes do things, even though...  "
      ]
     },
     "execution_count": 4,
     "metadata": {},
     "output_type": "execute_result"
    }
   ],
   "source": [
    "def cleanString(x):\n",
    "    x = x.replace(\"\\\\n\",\"\")\n",
    "    x = x.replace(\"\\\\\",\"\")\n",
    "    return x\n",
    "data_df['text'] = data_df['text'].apply(lambda x: cleanString(x))\n",
    "data_df.head()"
   ]
  },
  {
   "cell_type": "code",
   "execution_count": 6,
   "id": "dd0719b2",
   "metadata": {},
   "outputs": [
    {
     "name": "stderr",
     "output_type": "stream",
     "text": [
      "No model was supplied, defaulted to t5-base (https://huggingface.co/t5-base)\n",
      "/Users/rohith/opt/anaconda3/lib/python3.9/site-packages/transformers/models/t5/tokenization_t5_fast.py:156: FutureWarning: This tokenizer was incorrectly instantiated with a model max length of 512 which will be corrected in Transformers v5.\n",
      "For now, this behavior is kept to avoid breaking backwards compatibility when padding/encoding with `truncation is True`.\n",
      "- Be aware that you SHOULD NOT rely on t5-base automatically truncating your input to 512 when padding/encoding.\n",
      "- If you want to encode/pad to sequences longer than 512 you can either instantiate this tokenizer with `model_max_length` or pass `max_length` when encoding/padding.\n",
      "- To avoid this warning, please instantiate this tokenizer with `model_max_length` set to your preferred value.\n",
      "  warnings.warn(\n"
     ]
    }
   ],
   "source": [
    "text2text_generator = pipeline(\"text2text-generation\")"
   ]
  },
  {
   "cell_type": "markdown",
   "id": "bd0f38b5",
   "metadata": {},
   "source": [
    "!pip install bert-extractive-summarizer\n",
    "!pip install sacremoses"
   ]
  },
  {
   "cell_type": "code",
   "execution_count": null,
   "id": "0ff7e718",
   "metadata": {},
   "outputs": [
    {
     "name": "stderr",
     "output_type": "stream",
     "text": [
      "Some weights of the model checkpoint at bert-large-uncased were not used when initializing BertModel: ['cls.predictions.transform.dense.weight', 'cls.predictions.transform.dense.bias', 'cls.seq_relationship.weight', 'cls.predictions.decoder.weight', 'cls.seq_relationship.bias', 'cls.predictions.bias', 'cls.predictions.transform.LayerNorm.bias', 'cls.predictions.transform.LayerNorm.weight']\n",
      "- This IS expected if you are initializing BertModel from the checkpoint of a model trained on another task or with another architecture (e.g. initializing a BertForSequenceClassification model from a BertForPreTraining model).\n",
      "- This IS NOT expected if you are initializing BertModel from the checkpoint of a model that you expect to be exactly identical (initializing a BertForSequenceClassification model from a BertForSequenceClassification model).\n"
     ]
    }
   ],
   "source": [
    "model = Summarizer()\n",
    "\n",
    "data_df['gist'] = data_df['text'].apply(lambda x: model(x))\n",
    "\n",
    "data_df.head()"
   ]
  },
  {
   "cell_type": "code",
   "execution_count": 18,
   "id": "e74c2b1c",
   "metadata": {},
   "outputs": [
    {
     "data": {
      "text/plain": [
       "'Many people think that governments should spend money on improving roads and highways while the others say that it would be better to spend money on public transportation. In my opinion, governments should certainly spend money on the public transportation system because it would deal with problems that the rising number of private cars is creating.'"
      ]
     },
     "execution_count": 18,
     "metadata": {},
     "output_type": "execute_result"
    }
   ],
   "source": [
    "result = model(full)\n",
    "result\n",
    "context = result\n",
    "question = \"what is the key point of the following sentence?\"\n",
    "text2text_generator(context+question)"
   ]
  }
 ],
 "metadata": {
  "kernelspec": {
   "display_name": "Python 3 (ipykernel)",
   "language": "python",
   "name": "python3"
  },
  "language_info": {
   "codemirror_mode": {
    "name": "ipython",
    "version": 3
   },
   "file_extension": ".py",
   "mimetype": "text/x-python",
   "name": "python",
   "nbconvert_exporter": "python",
   "pygments_lexer": "ipython3",
   "version": "3.9.7"
  }
 },
 "nbformat": 4,
 "nbformat_minor": 5
}
